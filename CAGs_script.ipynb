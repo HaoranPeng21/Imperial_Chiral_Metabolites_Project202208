{
 "cells": [
  {
   "cell_type": "code",
   "execution_count": 18,
   "id": "a74ab408",
   "metadata": {},
   "outputs": [
    {
     "name": "stderr",
     "output_type": "stream",
     "text": [
      "/Users/mac/Downloads/yes/lib/python3.7/site-packages/ipykernel_launcher.py:17: ClusterWarning: scipy.cluster: The symmetric non-negative hollow observation matrix looks suspiciously like an uncondensed distance matrix\n"
     ]
    },
    {
     "data": {
      "image/png": "[encoded data removed]",
      "text/plain": [
       "<Figure size 432x288 with 1 Axes>"
      ]
     },
     "metadata": {
      "needs_background": "light"
     },
     "output_type": "display_data"
    }
   ],
   "source": [
    "import pandas as pd \n",
    "import scipy.spatial\n",
    "import scipy.cluster\n",
    "import numpy as np\n",
    "import json\n",
    "import matplotlib.pyplot as plt\n",
    "from functools import reduce\n",
    "import skbio\n",
    "from skbio import DistanceMatrix\n",
    "from skbio.stats.distance import permanova\n",
    "\n",
    "adj=pd.read_table(\"adj_filter.txt\", sep=\"\\t\", header=0,index_col=0,encoding='utf8')\n",
    "distMat = 1-adj\n",
    "#distMat\n",
    "\n",
    "#print(distMat[1:5])\n",
    "clusters = scipy.cluster.hierarchy.linkage(distMat, method='ward')\n",
    "T = scipy.cluster.hierarchy.to_tree( clusters , rd=False )\n",
    "\n",
    "labels = list(distMat.columns.values)\n",
    "id2name = dict(enumerate(labels))\n",
    " \n",
    "# Draw dendrogram using matplotlib to scipy-dendrogram.pdf\n",
    "scipy.cluster.hierarchy.dendrogram(clusters, labels=labels, orientation='right')\n",
    "plt.savefig(\"scipy-dendrogram.png\")\n",
    "\n",
    "def add_node(node, parent ):\n",
    "    # First create the new node and append it to its parent's children\n",
    "    newNode = dict( node_id=node.id, children=[] )\n",
    "    parent[\"children\"].append( newNode )\n",
    " \n",
    "    # Recursively add the current node's children\n",
    "    if node.left: add_node( node.left, newNode )\n",
    "    if node.right: add_node( node.right, newNode )\n",
    " \n",
    "# Initialize nested dictionary for d3, then recursively iterate through tree\n",
    "d3Dendro = dict(children=[], name=\"Root1\")\n",
    "add_node( T, d3Dendro )\n",
    "#print(d3Dendro)\n",
    "\n",
    "tree = []\n",
    "\n",
    "def get_group(str1,str2):\n",
    "    level = pd.DataFrame(str1.split(\",\"))\n",
    "    str1_l = str1.split(\",\")\n",
    "    str11=[1 for i in range(len(str1_l))]\n",
    "    str2_l = str2.split(\",\")\n",
    "    str22=[2 for i in range(len(str2_l))]\n",
    "    test = { 'group':str11+str22}\n",
    "    df_test1 = pd.DataFrame(test,index=str1_l+str2_l)\n",
    "    return df_test1\n",
    "\n",
    "dis_matrix = DistanceMatrix(list(distMat.values))\n",
    "pv = []\n",
    "\n",
    "def preorder(root):\n",
    "    if not root.is_leaf():\n",
    "        str1=\",\".join([distMat.columns.values[i] for i in root.left.pre_order()])\n",
    "        str2=\",\".join([distMat.columns.values[i] for i in root.right.pre_order()])\n",
    "        df_test = get_group(str1,str2)\n",
    "        result = pd.concat([distMat, df_test], axis=1)\n",
    "        result = result.dropna(axis=0, how='any')\n",
    "        group = list(result[\"group\"])\n",
    "        result=result[list(result.index.values)]\n",
    "        dis_matrix = DistanceMatrix(list(result.values))\n",
    "        obs = permanova(dis_matrix, group)\n",
    "        pvalue = obs[\"p-value\"]\n",
    "        if pvalue < 0.05:\n",
    "            pv.append(pvalue)\n",
    "            #print(str1,str2)\n",
    "            tree.append([str1.split(\",\"),str2.split(\",\")])\n",
    "    if pvalue <0.05:\n",
    "        preorder(root.get_left())\n",
    "        preorder(root.get_right())\n",
    "\n",
    "\n",
    " \n",
    "preorder(T)\n",
    "#print(len(tree))\n",
    "#print(pv)\n",
    "#print(tree[0])\n",
    "#dist_str1 = distMat[str1.split(\",\")].loc[str1.split(\",\")]\n",
    "#dist_str2 = distMat[str2.split(\",\")].loc[str2.split(\",\")]\n",
    "\n",
    "out_list=list()\n",
    "for i in tree:\n",
    "    a = 0\n",
    "    b = 0\n",
    "    for j in tree:\n",
    "        if set(i[0]) > set(j[0]) or set(j[0]) > set(j[1]):\n",
    "            a = a+1\n",
    "        if set(i[1]) > set(j[0]) or set(j[0]) > set(j[1]):\n",
    "            b = b+1\n",
    "    if a == 0:\n",
    "        out_list.append(i[0])\n",
    "    if b == 0:\n",
    "        out_list.append(i[1])\n",
    "\n",
    "#print(len(out_list))\n",
    "#print(out_list)\n",
    "\n",
    "k_group = {}\n",
    "for i in range(0,len(out_list)):\n",
    "    k_group[\"CAG%s\"%(i+1)] = out_list[i]\n",
    "    \n",
    "#print(k_group[\"CAG1\"])\n",
    "\n",
    "key = list(k_group.keys())\n",
    "str_group_a = []\n",
    "str_key = []\n",
    "for i in key:\n",
    "    str_len=[i for j in range(len(k_group[i]))]\n",
    "    str_group_a.extend(str_len)\n",
    "    str_key.extend(k_group[i])\n",
    "test1 = {\"group\":str_group_a}\n",
    "\n",
    "#print(str_group_a)\n",
    "#print(str_key)\n",
    "df_Final = pd.DataFrame(test1,index=str_key)\n",
    "#df_Final.to_csv(\"CAGs_group.csv\")"
   ]
  },
  {
   "cell_type": "code",
   "execution_count": 28,
   "id": "18884d5a",
   "metadata": {},
   "outputs": [
    {
     "name": "stderr",
     "output_type": "stream",
     "text": [
      "/Users/mac/Downloads/yes/lib/python3.7/site-packages/ipykernel_launcher.py:1: ClusterWarning: scipy.cluster: The symmetric non-negative hollow observation matrix looks suspiciously like an uncondensed distance matrix\n",
      "  \"\"\"Entry point for launching an IPython kernel.\n"
     ]
    },
    {
     "name": "stdout",
     "output_type": "stream",
     "text": [
      "['OTU_1745', 'OTU_3730', 'OTU_4411', 'OTU_4978', 'OTU_5026', 'OTU_8640', 'OTU_47916', 'OTU_111986', 'OTU_112964', 'OTU_113212', 'OTU_134163', 'OTU_136280', 'OTU_144381', 'OTU_146397', 'OTU_148890', 'OTU_151114', 'OTU_151955', 'OTU_152039', 'OTU_153450', 'OTU_154268', 'OTU_156032', 'OTU_156065', 'OTU_156545', 'OTU_156816', 'OTU_160908', 'OTU_160992', 'OTU_161227', 'OTU_204462', 'OTU_204561', 'OTU_207796', 'OTU_214611', 'OTU_216341', 'OTU_218024', 'OTU_218287', 'OTU_222080', 'OTU_222635', 'OTU_223583', 'OTU_224117', 'OTU_226506', 'OTU_239649', 'OTU_240591', 'OTU_248618', 'OTU_254262', 'OTU_257244', 'OTU_257891', 'OTU_259452', 'OTU_277931', 'OTU_278437', 'OTU_278816', 'OTU_279571', 'OTU_279590', 'OTU_281116', 'OTU_286368', 'OTU_305277', 'OTU_317096', 'OTU_318683', 'OTU_319256', 'OTU_323164', 'OTU_327961', 'OTU_328245', 'OTU_340198', 'OTU_342757', 'OTU_343296', 'OTU_347619', 'OTU_349634', 'OTU_364090', 'OTU_391129', 'OTU_510452', 'OTU_511844', 'OTU_513331', 'OTU_529793', 'OTU_533525', 'OTU_533587', 'OTU_534479', 'OTU_541300', 'OTU_546864', 'OTU_546873', 'OTU_548876', 'OTU_559239', 'OTU_560615', 'OTU_561789', 'OTU_563862', 'OTU_566300', 'OTU_566886', 'OTU_573607', 'OTU_573812', 'OTU_575937', 'OTU_580487', 'OTU_584527', 'OTU_586693', 'OTU_593321', 'summed-nonfeat-rows']\n"
     ]
    },
    {
     "data": {
      "image/png": "[encoded data removed]",
      "text/plain": [
       "<Figure size 432x288 with 1 Axes>"
      ]
     },
     "metadata": {
      "needs_background": "light"
     },
     "output_type": "display_data"
    }
   ],
   "source": [
    "clusters = scipy.cluster.hierarchy.linkage(distMat, method='ward')\n",
    "T = scipy.cluster.hierarchy.to_tree( clusters , rd=False )\n",
    "\n",
    "labels = list(distMat.columns.values)\n",
    "id2name = dict(enumerate(labels))\n",
    " \n",
    "# Draw dendrogram using matplotlib to scipy-dendrogram.pdf\n",
    "d = scipy.cluster.hierarchy.dendrogram(clusters, labels=labels, orientation='right',leaf_font_size=2)\n",
    "#test2 = {\"group1\":d[\"leaves_color_list\"]}\n",
    "#plt.savefig('750x750.png', dpi=500,bbbox_inches='tight')\n",
    "#print(labels)"
   ]
  },
  {
   "cell_type": "code",
   "execution_count": 30,
   "id": "e7dd435a",
   "metadata": {},
   "outputs": [
    {
     "data": {
      "text/plain": [
       "'(((((((((OTU_319256:1.13,OTU_240591:1.13):0.38,OTU_593321:1.50):0.17,(OTU_511844:1.35,OTU_364090:1.35):0.32):0.45,OTU_207796:2.12):0.70,(((OTU_391129:1.50,OTU_222080:1.50):0.09,OTU_318683:1.59):0.46,OTU_8640:2.04):0.77):0.71,(((OTU_323164:1.40,OTU_257244:1.40):1.10,OTU_146397:2.51):0.12,(((OTU_533587:1.48,OTU_340198:1.48):0.29,OTU_573607:1.76):0.26,(summed-nonfeat-rows:1.54,OTU_584527:1.54):0.48):0.61):0.90):1.37,((OTU_546873:2.00,OTU_161227:2.00):0.19,(OTU_277931:1.80,OTU_152039:1.80):0.39):2.70):5.96,((((((((OTU_534479:1.41,OTU_112964:1.41):0.10,OTU_559239:1.51):0.24,(OTU_257891:1.48,OTU_156545:1.48):0.28):0.07,OTU_4411:1.83):0.24,OTU_226506:2.07):0.57,((OTU_513331:1.59,OTU_3730:1.59):0.35,OTU_144381:1.94):0.69):0.66,((((((((OTU_563862:1.48,OTU_136280:1.48):0.24,OTU_5026:1.71):0.03,((((((OTU_214611:1.53,OTU_160992:1.53):0.00,OTU_156816:1.53):0.00,OTU_343296:1.53):0.07,(OTU_573812:1.41,OTU_224117:1.41):0.19):0.03,(OTU_281116:1.41,OTU_218287:1.41):0.21):0.08,(OTU_216341:1.53,OTU_1745:1.53):0.17):0.04):0.04,(OTU_279590:1.55,OTU_218024:1.55):0.23):0.09,((OTU_529793:1.60,OTU_248618:1.60):0.12,(((OTU_317096:1.41,OTU_259452:1.41):0.08,OTU_342757:1.50):0.09,OTU_327961:1.59):0.13):0.15):0.12,(OTU_566886:1.59,OTU_154268:1.59):0.39):0.15,OTU_223583:2.13):0.24,(OTU_286368:1.40,OTU_254262:1.40):0.97):0.92):0.20,((((OTU_580487:1.55,OTU_160908:1.55):0.47,(OTU_153450:1.06,OTU_134163:1.06):0.96):0.52,((OTU_204462:1.24,OTU_156032:1.24):0.74,((OTU_533525:0.98,OTU_279571:0.98):0.26,OTU_222635:1.24):0.75):0.54):0.08,((OTU_148890:1.54,OTU_4978:1.54):0.38,OTU_561789:1.93):0.69):0.89):7.35):4.32,(((((((OTU_278437:1.85,OTU_151114:1.85):0.15,OTU_328245:2.00):0.16,OTU_239649:2.17):0.71,(OTU_278816:1.60,OTU_111986:1.60):1.27):0.63,(OTU_349634:1.60,OTU_305277:1.60):1.90):0.57,(((((OTU_586693:1.47,OTU_548876:1.47):0.22,OTU_560615:1.69):0.28,OTU_204561:1.97):0.53,(OTU_541300:1.69,OTU_156065:1.69):0.81):0.16,(OTU_510452:1.58,OTU_151955:1.58):1.08):1.41):2.11,(((OTU_566300:1.27,OTU_113212:1.27):0.82,OTU_347619:2.09):1.08,((OTU_546864:1.28,OTU_47916:1.28):0.71,OTU_575937:2.00):1.18):3.01):8.99);'"
      ]
     },
     "execution_count": 30,
     "metadata": {},
     "output_type": "execute_result"
    }
   ],
   "source": [
    "def get_newick(node, parent_dist, leaf_names, newick='') -> str:\n",
    "    \"\"\"\n",
    "    Convert sciply.cluster.hierarchy.to_tree()-output to Newick format.\n",
    "\n",
    "    :param node: output of sciply.cluster.hierarchy.to_tree()\n",
    "    :param parent_dist: output of sciply.cluster.hierarchy.to_tree().dist\n",
    "    :param leaf_names: list of leaf names\n",
    "    :param newick: leave empty, this variable is used in recursion.\n",
    "    :returns: tree in Newick format\n",
    "    \"\"\"\n",
    "    if node.is_leaf():\n",
    "        return \"%s:%.2f%s\" % (leaf_names[node.id], parent_dist - node.dist, newick)\n",
    "    else:\n",
    "        if len(newick) > 0:\n",
    "            newick = \"):%.2f%s\" % (parent_dist - node.dist, newick)\n",
    "        else:\n",
    "            newick = \");\"\n",
    "        newick = get_newick(node.get_left(), node.dist, leaf_names, newick=newick)\n",
    "        newick = get_newick(node.get_right(), node.dist, leaf_names, newick=\",%s\" % (newick))\n",
    "        newick = \"(%s\" % (newick)\n",
    "        return newick\n",
    "\n",
    "tree = scipy.cluster.hierarchy.to_tree(clusters, False)\n",
    "get_newick(tree, tree.dist, labels)"
   ]
  }
 ],
 "metadata": {
  "kernelspec": {
   "display_name": "Python 3 (ipykernel)",
   "language": "python",
   "name": "python3"
  },
  "language_info": {
   "codemirror_mode": {
    "name": "ipython",
    "version": 3
   },
   "file_extension": ".py",
   "mimetype": "text/x-python",
   "name": "python",
   "nbconvert_exporter": "python",
   "pygments_lexer": "ipython3",
   "version": "3.7.4"
  }
 },
 "nbformat": 4,
 "nbformat_minor": 5
}
